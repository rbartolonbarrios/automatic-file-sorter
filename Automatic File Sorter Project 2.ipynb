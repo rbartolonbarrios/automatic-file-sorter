{
 "cells": [
  {
   "cell_type": "code",
   "execution_count": 1,
   "id": "efaa4631",
   "metadata": {},
   "outputs": [],
   "source": [
    "import os, shutil"
   ]
  },
  {
   "cell_type": "code",
   "execution_count": 2,
   "id": "cf89450e",
   "metadata": {},
   "outputs": [],
   "source": [
    "#Define path\n",
    "path = r'C:\\Users\\Randy Bartolon\\OneDrive\\Desktop\\python_work\\Automatic Sorter\\\\'\n",
    "\n",
    "#Create a dictionary of folder names and file extensions \n",
    "folders = {\n",
    "    'CSV Files':\".csv\", \n",
    "    'Text Files':\".txt\", \n",
    "    'Image Files':\".png\", \n",
    "    'Python Files':\".py\", \n",
    "    'TSV Files':\".tsv\", \n",
    "    'JSON Files':\".json\"}\n",
    "\n",
    "#Ensure all folders exist\n",
    "for folder in folders.keys():\n",
    "    folder_path = os.path.join(path, folder)\n",
    "    if not os.path.exists(folder_path):\n",
    "        os.makedirs(folder_path)\n",
    "\n",
    "#Fetch all the files in the folder         \n",
    "file_names = os.listdir(path)\n",
    "\n",
    "#Loop through files and move them into respective folders\n",
    "for file in file_names:\n",
    "    file_path = os.path.join(path, file)\n",
    "    \n",
    "    if os.path.isfile(file_path): #Ensure it is a file and not a folder\n",
    "        if file.endswith(\".csv\"):\n",
    "            shutil.move(file_path, os.path.join(path, \"CSV Files\", file))\n",
    "        elif file.endswith(\".txt\"):\n",
    "            shutil.move(file_path, os.path.join(path, \"Text Files\", file))\n",
    "        elif file.endswith(\".png\"):\n",
    "            shutil.move(file_path, os.path.join(path, \"Image Files\", file))\n",
    "        elif file.endswith(\".py\"):\n",
    "            shutil.move(file_path, os.path.join(path, \"Python Files\", file))\n",
    "        elif file.endswith(\".tsv\"):\n",
    "            shutil.move(file_path, os.path.join(path, \"TSV Files\", file))\n",
    "        elif file.endswith(\".json\"):\n",
    "            shutil.move(file_path, os.path.join(path, \"JSON Files\", file))\n",
    "            "
   ]
  }
 ],
 "metadata": {
  "kernelspec": {
   "display_name": "Python 3 (ipykernel)",
   "language": "python",
   "name": "python3"
  },
  "language_info": {
   "codemirror_mode": {
    "name": "ipython",
    "version": 3
   },
   "file_extension": ".py",
   "mimetype": "text/x-python",
   "name": "python",
   "nbconvert_exporter": "python",
   "pygments_lexer": "ipython3",
   "version": "3.10.9"
  }
 },
 "nbformat": 4,
 "nbformat_minor": 5
}
