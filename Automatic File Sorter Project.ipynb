{
 "cells": [
  {
   "cell_type": "code",
   "execution_count": null,
   "id": "548c2de8",
   "metadata": {},
   "outputs": [],
   "source": [
    "import os, shutil"
   ]
  },
  {
   "cell_type": "code",
   "execution_count": null,
   "id": "646c1810",
   "metadata": {},
   "outputs": [],
   "source": [
    "path = r'C:\\Users\\Randy Bartolon\\OneDrive\\Desktop\\python_work\\Automatic Sorter\\\\'\n",
    "\n",
    "folder_names = ['CSV Files', 'Text Files', 'Image Files', 'Python Files', 'TSV Files', 'JSON Files']\n",
    "\n",
    "\n",
    "for folder in folder_names:\n",
    "    if not os.path.exists(path + folder):\n",
    "        os.makedirs(path + folder)\n",
    "        \n",
    "file_names = os.listdir(path)\n",
    "\n",
    "for file in file_names:\n",
    "    if \".csv\" in file and not os.path.exists(path + \"CSV Files\\\\\" + file):\n",
    "        shutil.move(path + file, path + \"CSV Files\\\\\" + file)\n",
    "    elif \".png\" in file and not os.path.exists(path + \"Image Files\\\\\" + file):\n",
    "        shutil.move(path + file, path + \"Image Files\\\\\" + file)\n",
    "    elif \".txt\" in file and not os.path.exists(path + \"Text Files\\\\\" + file):\n",
    "        shutil.move(path + file, path + \"Text Files\\\\\" + file)\n",
    "    elif \".tsv\" in file and not os.path.exists(path + \"TSV Files\\\\\" + file):\n",
    "        shutil.move(path + file, path + \"TSV Files\\\\\" + file)\n",
    "    if \".json\" in file and not os.path.exists(path + \"JSON Files\\\\\" + file):\n",
    "        shutil.move(path + file, path + \"JSON Files\\\\\" + file)\n",
    "    if \".py\" in file and not os.path.exists(path + \"Python Files\\\\\" + file):\n",
    "        shutil.move(path + file, path + \"Python Files\\\\\" + file)"
   ]
  }
 ],
 "metadata": {
  "kernelspec": {
   "display_name": "Python 3 (ipykernel)",
   "language": "python",
   "name": "python3"
  },
  "language_info": {
   "codemirror_mode": {
    "name": "ipython",
    "version": 3
   },
   "file_extension": ".py",
   "mimetype": "text/x-python",
   "name": "python",
   "nbconvert_exporter": "python",
   "pygments_lexer": "ipython3",
   "version": "3.10.9"
  }
 },
 "nbformat": 4,
 "nbformat_minor": 5
}
